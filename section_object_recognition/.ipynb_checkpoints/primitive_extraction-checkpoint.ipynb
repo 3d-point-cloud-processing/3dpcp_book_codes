{
 "cells": [
  {
   "cell_type": "markdown",
   "metadata": {},
   "source": [
    "# プリミティブ検出\n"
   ]
  },
  {
   "cell_type": "markdown",
   "metadata": {},
   "source": [
    "平面や球などの単純な図形を検出する処理を「プリミティブ検出」と呼びます．\n",
    "机の上に並べた対象物を検出したい場合，事前に平面を検出しておき，その部分の点群を削除してしまえば，\n",
    "個々の物体を簡単に単離（検出）することができます．\n",
    "\n",
    "このように身の回りの構造物の多くは，単純な数式で記述できるプリミティブ形状であることが多いため，\n",
    "プリミティブ検出は，シーン理解のためのかなり強力な前処理として利用することができます．\n",
    "本節では，RANSACを使ったプリミティブ検出アルゴリズムについて紹介します．\n",
    "\n",
    "## 平面の検出\n",
    "Open3Dによる平面検出について紹介します．\n",
    "対象となる点群データは```tabletop_scene1.ply```です．読み込んで表示してみましょう．\n",
    "このデータは3Dプリンタで出力して机の上に配置した球やうさぎなどを計測した点群です．\n"
   ]
  },
  {
   "cell_type": "code",
   "execution_count": null,
   "metadata": {},
   "outputs": [],
   "source": [
    "import open3d as o3d\n",
    "import numpy as np\n",
    "import copy"
   ]
  },
  {
   "cell_type": "code",
   "execution_count": null,
   "metadata": {},
   "outputs": [],
   "source": [
    "pcd = o3d.io.read_point_cloud(\"../data/tabletop_scene.ply\")\n",
    "o3d.visualization.draw_geometries([pcd])"
   ]
  },
  {
   "cell_type": "markdown",
   "metadata": {},
   "source": [
    "この点群から，平面検出によって，机の面を検出してみましょう．\n",
    "Open3Dでは，PointCloudのメンバ関数として```segment_plane()```が用意されています．\n",
    "実行してみましょう．"
   ]
  },
  {
   "cell_type": "code",
   "execution_count": null,
   "metadata": {},
   "outputs": [],
   "source": [
    "plane_model, inliers = pcd.segment_plane(distance_threshold=0.005,\n",
    "                                         ransac_n=3,\n",
    "                                         num_iterations=500)\n",
    "\n",
    "[a, b, c, d] = plane_model\n",
    "print(f\"Plane equation: {a:.2f}x + {b:.2f}y + {c:.2f}z + {d:.2f} = 0\")"
   ]
  },
  {
   "cell_type": "markdown",
   "metadata": {},
   "source": [
    "関数```segment_plane()```では，RANSACによる平面検出を実行します．\n",
    "引数は次の通りです．\n",
    "- distance_threshold\n",
    "    - RANSACの「評価」処理で利用されます．平面のインライアとして判定するための距離のしきい値です．0.005を設定すると，平面から距離5mm以内の点をインライアとしてみなします．\n",
    "- ransac_n\n",
    "    - RANSACの「サンプリング」処理で利用されます．この点数から平面のパラメータを計算します．\n",
    "- num_iteration\n",
    "    - RANSACの「サンプリング」と「評価」の繰り返し回数です．\n",
    "\n",
    "出力は次の通りです．\n",
    "- plane_model\n",
    "    - 平面パラメータ\n",
    "- inliers\n",
    "    - 元の点群における，平面上の点のインデクスのリスト\n",
    "    \n",
    "\n",
    "```inliers```には，平面上の点のインデクスが保存されていますので，これを使って結果を確認しましょう．\n",
    "以下のコードでは，インデクスのリストを使って，点群を平面上のもの（赤色）と，それ以外に分けています．"
   ]
  },
  {
   "cell_type": "code",
   "execution_count": null,
   "metadata": {},
   "outputs": [],
   "source": [
    "plane_cloud = pcd.select_by_index(inliers)\n",
    "plane_cloud.paint_uniform_color([1.0, 0, 0])\n",
    "outlier_cloud = pcd.select_by_index(inliers, invert=True)"
   ]
  },
  {
   "cell_type": "code",
   "execution_count": null,
   "metadata": {},
   "outputs": [],
   "source": [
    "o3d.visualization.draw_geometries([plane_cloud,outlier_cloud])"
   ]
  },
  {
   "cell_type": "markdown",
   "metadata": {},
   "source": [
    "机を計測した点群のみが赤色に変更されており，うまく平面検出に成功したことがわかります．\n",
    "\n",
    "では，ここで平面検出に使われた関数```segment\\_plane()```の処理の内容を解説します．\n",
    "\n",
    "先にも述べたとおり，関数```segment\\_plane()```ではRANSACによって平面を検出しています．\n",
    "3次元の点を$(x,y,z)$とすると，平面は$ax+by+cz+d=0$で表すことができます．\n",
    "したがって，平面検出をおこなうRANSACのモデルパラメータは$a,b,c,d$となります．\n",
    "\n",
    "ここまでの処理のサンプルコードの実行方法は次の通りです．\n",
    "``` python\n",
    "$ python o3d_ransac_plane.py\n",
    "```"
   ]
  },
  {
   "cell_type": "markdown",
   "metadata": {},
   "source": [
    "### サンプリング\n",
    "点群からランダムに3点${\\bf p}_0, {\\bf p}_1, {\\bf p}_2$を選択し，この3点によって作られる平面のパラメータ$p_{\\mathrm{plane}}=(a,b,c,d)$を算出します．\n",
    "ベクトル${\\bf e}_0 = {\\bf p}_1-{\\bf p}_0$, ${\\bf e}_1 = {\\bf p}_2-{\\bf p}_0$とし，これらの外積を正規化したベクトル${\\bf n} = {\\bf e}_1 \\times {\\bf e}_2 / |{\\bf e}_1 \\times {\\bf e}_2|$が平面の法線方向である$(a,b,c)$です．\n",
    "また，$d = -{\\bf n}\\cdot{\\bf p}_0$です．\n",
    "\n",
    "\n",
    "### 評価\n",
    "得られたモデルパラメータ$p_{\\mathrm{plane}}$の良さを評価します．\n",
    "点群を構成する各点$\\bf p$と平面間の距離を計算します．\n",
    "一般的には点と直線の距離は$|ax+by+cz+d|/\\sqrt{a^2+b^2+c^2}$で計算できますが，この計算は$\\bf p$の末尾に1を追加した4次元ベクトル${\\bf p}'=({bf p},1)$と${\\bf p}_{\\mathrm{plane}}$の内積で表すことができます．\n",
    "\n",
    "この距離が```distance_threshold```で設定したしきい値以下である場合は，インライアとしてカウントします．\n",
    "すべての点に対して計算が終了したとき，モデルの当てはめの良さを表す指標であるfitnessを（インライア点数）/（総点数）とします．また，インライアの平均誤差も記録しておきます．\n",
    "\n",
    "```num_iteration```の回数の試行を繰り返し，```fitness```が最も高い${\\bf p}_{\\mathrm{plane}}$を解とします．同一の```fitness```を持つ$p_{\\mathrm{plane}}$がある場合は，インライアの平均誤差が小さい方を採用します．また，インライアに属する点のインデクスのリストを作成し，出力します．\n"
   ]
  },
  {
   "cell_type": "markdown",
   "metadata": {},
   "source": [
    "# 球の検出\n",
    "検出するモデルパラメータを方程式で表現することができれば，前述したRANSACのアルゴリズムを修正することによって，別のプリミティブを検出することも可能です．\n",
    "open3Dには，球を検出する関数が実装されていませんので，本節で実装してみましょう．\n",
    "\n",
    "#### 球のパラメータの算出\n",
    "まずは，RANSACの「サンプリング」について考えます．ここでは，点群からサンプリングした数点から，球のパラメータを求める必要があります．\n",
    "球のパラメータは中心$(a,b,c)$と半径$r$の合計4つの変数で表現できます．\n",
    "ここでは，点群からランダムにサンプリングされた4点をもとにして，球のパラメータを算出する方法を考えます．\n",
    "最もオーソドックスな解き方は，球の方程式に4つの3次元点を代入して，連立方程式を解く方法です．\n",
    "3次元点を${\\bf p}_n = (x_n,y_n,z_n)$とすると，球の方程式は$(x_n-a)^2+(y_n-b)^2+(z_n-c)^2=r^2$です．\n",
    "\n",
    "各点を方程式に代入し，以下のようにn番目の式からm番目の式を引いて整理すると，$a,b,c$に関する3つの連立一次式方程式が残ります．\n",
    "%$(x_n-x_m)a+(y_n-y_m)b+(z_n-z_m)c=(x_n^2-x_m^2+y_n^2-y_m^2+z_n^2-z_m^2)/2$\n",
    "具体的には，$n=0,1,2$，$m=3$とすると，次の通りです．\n",
    "\\begin{equation}\n",
    "\\left\\{\n",
    "\\begin{array}{l}\n",
    "(x_0-x_3)a+(y_0-y_3)b+(z_0-z_3)c=(x_0^2-x_3^2+y_0^2-y_3^2+z_0^2-z_3^2)/2 \\\\\n",
    "(x_1-x_3)a+(y_1-y_3)b+(z_1-z_3)c=(x_1^2-x_3^2+y_1^2-y_3^2+z_1^2-z_3^2)/2 \\\\\n",
    "(x_2-x_3)a+(y_2-y_3)b+(z_2-z_3)c=(x_2^2-x_3^2+y_2^2-y_3^2+z_2^2-z_3^2)/2 \n",
    "\\end{array}\n",
    "\\right.\n",
    "\\end{equation}\n",
    "\n",
    "\n",
    "NumPyを使えば，```np.linalg.solve(A,B)}```によって連立一次式方程式を解くことができます．\n",
    "この関数の引数```A```は連立方程式の左辺の$a,b,c$の係数を並べた正方行列，```B```は右辺を縦に並べた列ベクトルです．\n",
    "この機能を使って，$a,b,c$を算出し，最後に$r$を計算することにします．\n",
    "実装例は以下の通りです．\n",
    "この関数では入力された4点の3次元点```p0, p1, p2, p3```を通る球の方程式のパラメータ$(a,b,c,r)$を変数```coeff```として出力します．"
   ]
  },
  {
   "cell_type": "code",
   "execution_count": null,
   "metadata": {},
   "outputs": [],
   "source": [
    "def ComputeSphereCoefficient( p0, p1, p2, p3 ):\n",
    "    \"\"\" 与えられた4点を通る球の方程式のパラメータ(a,b,c,r)を出力する．\n",
    "        解が求まらない場合は，\n",
    "    Args:\n",
    "      p0,p1,p2,p3(numpy.ndarray): 4 points (x,y,z)\n",
    "    Return:\n",
    "      Sphere coefficients.\n",
    "    \"\"\"\n",
    "\n",
    "    A = np.array([p0-p3,p1-p3,p2-p3])\n",
    "    \n",
    "    p3_2 = np.dot(p3,p3)\n",
    "    b = np.array([(np.dot(p0,p0)-p3_2)/2,\n",
    "                  (np.dot(p1,p1)-p3_2)/2,\n",
    "                  (np.dot(p2,p2)-p3_2)/2])\n",
    "    coeff = np.zeros(3)\n",
    "    try:\n",
    "        ans = np.linalg.solve(A,b)\n",
    "    except:\n",
    "        print( \"!!Error!! Matrix rank is\", np.linalg.matrix_rank(A) )\n",
    "        print( \"  Return\", coeff )\n",
    "        pass\n",
    "    else:\n",
    "        tmp = p0-ans\n",
    "        r = np.sqrt( np.dot(tmp,tmp) )\n",
    "        coeff = np.append(ans,r)\n",
    "\n",
    "    return coeff"
   ]
  },
  {
   "cell_type": "markdown",
   "metadata": {},
   "source": [
    "### 評価\n",
    "次にRANSACの「評価」のステップについて考えましょう．\n",
    "すでに求めた球のパラメータを使って，（インライア点数）/（総点数）で計算されるモデルの当てはめの良さ```fitness```や，インライアの平均誤差を算出します．\n",
    "\n",
    "点群中の1点を${\\bf p}_n = (x_n, y_n, z_n)$，中心$q = (a, b, c)$とすると，その間の距離$d_n=||{\\bf p}_{\\bf n}-q||_2$と半径$r$が一致していれば，${\\bf p}_n$は球面上に位置しているといえます．\n",
    "そこで，しきい値\\sf{distance\\_th}を使って，$|d_n-r|$が\\sf{distance\\_th}未満の${\\bf p}_n$をインライアに判定することにします．\n",
    "この実装例は以下の通りです．\n",
    "\n",
    "入力は点群(```pcd```)，球のパラメータ((```coeff```)，距離のしきい値(```distance_th```})で，\n",
    "出力はモデルである球の当てはめのよさ(```fitness```)，インライアの平均誤差(```inlier_dist```)，インライアに属する点群のインデクスリスト(```inliers```)です．"
   ]
  },
  {
   "cell_type": "code",
   "execution_count": null,
   "metadata": {},
   "outputs": [],
   "source": [
    "def EvaluateSphereCoefficient( pcd, coeff, distance_th=0.01 ):\n",
    "    \"\"\" 球の方程式の係数の当てはまりの良さを評価する．\n",
    "    Args:\n",
    "      pcd(numpy.ndarray): Nx3 points\n",
    "      coeff(numpy.ndarray): shpere coefficient. (a,b,c,r)\n",
    "      distance_th(float):\n",
    "    Returns:\n",
    "      fitness: score [0-1]. larger is better\n",
    "      inlier_dist: smaller is better\n",
    "      inliers: indices of inliers\n",
    "    \"\"\"\n",
    "    fitness = 0 # インライア点数/全点数\n",
    "    inlier_dist = 0 #インライアの平均距離\n",
    "    inliers = None #インライア点の番号セット\n",
    "    \n",
    "    dist = np.abs( np.linalg.norm( pcd - coeff[:3], axis=1 ) - coeff[3] )\n",
    "    n_inlier = np.sum(dist<distance_th)\n",
    "    if n_inlier != 0:\n",
    "        fitness = n_inlier / pcd.shape[0]\n",
    "        inlier_dist = np.sum((dist<distance_th)*dist)/n_inlier\n",
    "        inliers = np.where(dist<distance_th)[0]\n",
    "    \n",
    "    return fitness, inlier_dist, inliers"
   ]
  },
  {
   "cell_type": "markdown",
   "metadata": {},
   "source": [
    "上記のコードで重要な部分は，以下の行です．\n",
    "```python\n",
    "dist = np.abs( np.linalg.norm( pcd - coeff[:3], axis=1 ) - coeff[3] )\n",
    "```\n",
    "ここではNumPyのブロードキャスト機能を使って，点群中のすべての点に対する球面との距離を一気に計算しています．変数```dist```はこの計算結果を保存するための配列です．配列の長さは点群```pcd```の点数と同一であり，各要素に点と球面との距離が保存されています．\n",
    "Pythonではfor文等の繰り返し演算が遅いことが知られていますので，ブロードキャストを多用することがおすすめです．\n",
    "\n",
    "### 繰り返し演算の実装\n",
    "球検出のための「サンプリング」と「評価」の実装が終わりましたので，あとはこれら２つのステップを繰り返しながら良いパラメータを探す処理を実装するだけです．球検出処理への入力する点群は，平面検出でアウトライア（＝平面以外）と判定された点群にします．"
   ]
  },
  {
   "cell_type": "code",
   "execution_count": null,
   "metadata": {},
   "outputs": [],
   "source": [
    "pcd = outlier_cloud\n",
    "np_pcd = np.asarray(pcd.points)"
   ]
  },
  {
   "cell_type": "code",
   "execution_count": null,
   "metadata": {
    "tags": []
   },
   "outputs": [],
   "source": [
    "# Parameters\n",
    "ransac_n = 4 # 点群から選択する点数．球の場合は4．\n",
    "num_iterations = 1000 # RANSACの試行回数\n",
    "distance_th = 0.005 # モデルと点群の距離のしきい値\n",
    "max_radius = 0.05 # 検出する球の半径の最大値\n",
    "\n",
    "# 解の初期化\n",
    "best_fitness = 0 # モデルの当てはめの良さ．インライア点数/全点数\n",
    "best_inlier_dist = 10000.0 #インライア点の平均距離\n",
    "best_inliers = None # 元の点群におけるインライアのインデクス\n",
    "best_coeff = np.zeros(4) # モデルパラメータ\n",
    "\n",
    "for n in range(num_iterations):\n",
    "    c_id = np.random.choice( np_pcd.shape[0], 4, replace=False )\n",
    "    coeff = ComputeSphereCoefficient( np_pcd[c_id[0]], np_pcd[c_id[1]], np_pcd[c_id[2]], np_pcd[c_id[3]] )\n",
    "    if max_radius < coeff[3]:\n",
    "        continue\n",
    "    fitness, inlier_dist, inliers = EvaluateSphereCoefficient( np_pcd, coeff, distance_th )\n",
    "    if (best_fitness < fitness) or ((best_fitness == fitness) and (inlier_dist<best_inlier_dist)):\n",
    "        best_fitness = fitness\n",
    "        best_inlier_dist = inlier_dist\n",
    "        best_inliers = inliers\n",
    "        best_coeff = coeff\n",
    "        print(f\"Update: Fitness = {best_fitness:.4f}, Inlier_dist = {best_inlier_dist:.4f}\")\n",
    "\n",
    "if best_coeff.any() != False:\n",
    "    print(f\"Sphere equation: (x-{best_coeff[0]:.2f})^2 + (y-{best_coeff[1]:.2f})^2 + (z-{best_coeff[2]:.2f})^2 = {best_coeff[3]:.2f}^2\")\n",
    "else:\n",
    "    print(f\"No sphere detected.\")"
   ]
  },
  {
   "cell_type": "markdown",
   "metadata": {},
   "source": [
    "上記のコードでは，より高い```fitness```を持つパラメータが発見できるたびに解を更新しています．\n",
    "```fitness```が同一の場合は，```inlier_dist```がより小さい方の解を採用しています．\n",
    "\n",
    "では，インライア（=球と判定された点群）を青に着色して可視化してみましょう．"
   ]
  },
  {
   "cell_type": "code",
   "execution_count": null,
   "metadata": {},
   "outputs": [],
   "source": [
    "sphere_cloud = pcd.select_by_index(best_inliers)\n",
    "sphere_cloud.paint_uniform_color([0, 0, 1.0])\n",
    "outlier_cloud = pcd.select_by_index(best_inliers, invert=True)\n",
    "o3d.visualization.draw_geometries([sphere_cloud,outlier_cloud])"
   ]
  },
  {
   "cell_type": "markdown",
   "metadata": {},
   "source": [
    "\n",
    "球を計測した点群の色が青になったことがわかります．\n",
    "せっかくなので，算出したパラメータを元に，球のグラフィックを描画してみましょう．"
   ]
  },
  {
   "cell_type": "code",
   "execution_count": null,
   "metadata": {},
   "outputs": [],
   "source": [
    "mesh_sphere = o3d.geometry.TriangleMesh.create_sphere(radius=best_coeff[3])\n",
    "mesh_sphere.compute_vertex_normals()\n",
    "mesh_sphere.paint_uniform_color([0.3, 0.3, 0.7])\n",
    "mesh_sphere.translate(best_coeff[:3])\n",
    "o3d.visualization.draw_geometries([mesh_sphere]+[sphere_cloud+plane_cloud+outlier_cloud])"
   ]
  },
  {
   "cell_type": "markdown",
   "metadata": {},
   "source": [
    "\n",
    "\n",
    "RANSACを使うことによって，平面や球などの基本的な図形を点群から検出することができました．\n",
    "プリミティブ図形としては他にも円柱や円錐等があります．\n",
    "実際にPCLやMATLABには円柱を検出するための関数が用意されています．"
   ]
  }
 ],
 "metadata": {
  "interpreter": {
   "hash": "7ff7921a05d4b33fcdaa9b6a1dc1d4dbafd2e92b2a11aeda024c9918aab18837"
  },
  "kernelspec": {
   "display_name": "Python 3 (ipykernel)",
   "language": "python",
   "name": "python3"
  },
  "language_info": {
   "codemirror_mode": {
    "name": "ipython",
    "version": 3
   },
   "file_extension": ".py",
   "mimetype": "text/x-python",
   "name": "python",
   "nbconvert_exporter": "python",
   "pygments_lexer": "ipython3",
   "version": "3.8.10"
  }
 },
 "nbformat": 4,
 "nbformat_minor": 4
}
