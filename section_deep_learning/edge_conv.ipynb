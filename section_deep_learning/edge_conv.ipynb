{
 "cells": [
  {
   "cell_type": "code",
   "execution_count": null,
   "metadata": {},
   "outputs": [],
   "source": [
    "from pathlib import Path\n",
    "\n",
    "from torch_geometric.datasets import ModelNet\n",
    "import torch_geometric.transforms as T\n",
    "\n",
    "current_path = Path.cwd()\n",
    "dataset_dir = current_path / \"modelnet10\"\n",
    "\n",
    "pre_transform = T.Compose([\n",
    "    T.SamplePoints(1024, remove_faces=True, include_normals=True),\n",
    "    T.NormalizeScale(),\n",
    "])\n",
    "\n",
    "train_dataset = ModelNet(dataset_dir, name=\"10\", train=True, transform=None, pre_transform=pre_transform, pre_filter=None)\n",
    "test_dataset = ModelNet(dataset_dir, name=\"10\", train=False, transform=None, pre_transform=pre_transform, pre_filter=None)"
   ]
  },
  {
   "cell_type": "code",
   "execution_count": null,
   "metadata": {},
   "outputs": [],
   "source": [
    "from torch_geometric.data import DataLoader as DataLoader\n",
    "dataloader = DataLoader(train_dataset, batch_size=32, shuffle=False)\n",
    "batch = next(iter(dataloader))\n",
    "print(batch)"
   ]
  },
  {
   "cell_type": "code",
   "execution_count": null,
   "metadata": {},
   "outputs": [],
   "source": [
    "from torch_geometric.nn import knn\n",
    "\n",
    "assign_index = knn(x=batch.pos, y=batch.pos, k=16, batch_x=batch.batch, batch_y=batch.batch)\n",
    "print(assign_index.shape)\n",
    "print(assign_index)"
   ]
  },
  {
   "cell_type": "code",
   "execution_count": null,
   "metadata": {},
   "outputs": [],
   "source": [
    "p = batch.pos[assign_index[1, :], :]\n",
    "q = batch.pos[assign_index[0, :], :]\n",
    "print(p.shape, q.shape)"
   ]
  },
  {
   "cell_type": "code",
   "execution_count": null,
   "metadata": {},
   "outputs": [],
   "source": [
    "import torch\n",
    "from torch_geometric.nn import max_pool_x\n",
    "import torch.nn as nn\n",
    "\n",
    "class EdgeConv(nn.Module):\n",
    "    def __init__(self):\n",
    "        super(EdgeConv, self).__init__()\n",
    "        self.shared_mlp = nn.Sequential(\n",
    "            nn.Linear(6, 64), nn.BatchNorm1d(64), nn.LeakyReLU(negative_slope=0.2)\n",
    "        )\n",
    "        \n",
    "    def forward(self, batch):\n",
    "        assign_index = knn(x=batch.pos, y=batch.pos, k=20, batch_x=batch.batch, batch_y=batch.batch)\n",
    "        p = batch.pos[assign_index[1, :], :]\n",
    "        q = batch.pos[assign_index[0, :], :]\n",
    "        x = torch.cat([p, q-p], dim=1)\n",
    "        x = self.shared_mlp(x)\n",
    "        \n",
    "        edge_batch = batch.batch[assign_index[1, :]]\n",
    "        x, _ = max_pool_x(cluster=assign_index[1, :], x=x, batch=edge_batch)\n",
    "        return x\n",
    "\n",
    "f = EdgeConv()\n",
    "y = f(batch)\n",
    "print(y.shape)"
   ]
  },
  {
   "cell_type": "code",
   "execution_count": null,
   "metadata": {},
   "outputs": [],
   "source": []
  }
 ],
 "metadata": {
  "kernelspec": {
   "display_name": "Python 3",
   "language": "python",
   "name": "python3"
  },
  "language_info": {
   "codemirror_mode": {
    "name": "ipython",
    "version": 3
   },
   "file_extension": ".py",
   "mimetype": "text/x-python",
   "name": "python",
   "nbconvert_exporter": "python",
   "pygments_lexer": "ipython3",
   "version": "3.8.12"
  }
 },
 "nbformat": 4,
 "nbformat_minor": 4
}
