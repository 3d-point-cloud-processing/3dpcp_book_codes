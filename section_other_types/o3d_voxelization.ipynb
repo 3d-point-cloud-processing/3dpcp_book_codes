{
 "cells": [
  {
   "cell_type": "markdown",
   "metadata": {},
   "source": [
    "# ボクセルデータ抽出処理\n",
    "\n",
    "まずはじめに，Bunny.plyのメッシュデータをファイルから読み込みます．"
   ]
  },
  {
   "cell_type": "code",
   "execution_count": 1,
   "metadata": {},
   "outputs": [
    {
     "name": "stdout",
     "output_type": "stream",
     "text": [
      "Jupyter environment detected. Enabling Open3D WebVisualizer.\n",
      "[Open3D INFO] WebRTC GUI backend enabled.\n",
      "[Open3D INFO] WebRTCWindowSystem: HTTP handshake server disabled.\n",
      "Loading a point cloud from ../3rdparty/Open3D/examples/test_data/Bunny.ply\n",
      "TriangleMesh with 35947 points and 69451 triangles.\n"
     ]
    }
   ],
   "source": [
    "import open3d as o3d\n",
    "import numpy as np\n",
    "\n",
    "filename = \"../3rdparty/Open3D/examples/test_data/Bunny.ply\"\n",
    "print(\"Loading a point cloud from\", filename)\n",
    "mesh = o3d.io.read_triangle_mesh(filename)\n",
    "print(mesh)\n",
    "mesh.compute_vertex_normals()\n",
    "\n",
    "# fit to unit cube\n",
    "mesh.scale(1 / np.max(mesh.get_max_bound() - mesh.get_min_bound()), center=mesh.get_center())\n",
    "o3d.visualization.draw_geometries([mesh])"
   ]
  },
  {
   "cell_type": "markdown",
   "metadata": {},
   "source": [
    "これを実行すると，メッシュデータが表示されます．\n",
    "なお，上記プログラムの11行目はメッシュデータのバウンディングボックスの一辺の最大値が$1$になるようメッシュデータをスケール変換しています．\n",
    "次に，このメッシュデータを一辺の長さが$0.05$のボクセルデータに変換します．"
   ]
  },
  {
   "cell_type": "code",
   "execution_count": 2,
   "metadata": {},
   "outputs": [
    {
     "name": "stdout",
     "output_type": "stream",
     "text": [
      "mesh to voxel\n"
     ]
    }
   ],
   "source": [
    "print('mesh to voxel')\n",
    "voxel_grid = o3d.geometry.VoxelGrid.create_from_triangle_mesh(mesh, voxel_size=0.05)\n",
    "o3d.visualization.draw_geometries([voxel_grid])"
   ]
  },
  {
   "cell_type": "markdown",
   "metadata": {},
   "source": [
    "これを実行すると，ボクセルデータが表示されます．\n",
    "ここでは，メッシュデータ全体を含むバウンディングボックスを等間隔に分割するボクセルデータを用意し，\n",
    "一つ以上のメッシュと交差するボクセルの値を$1$，他のボクセルの値を$0$とする関数が実装されています．\n",
    "全てのメッシュと全てのボクセルの交差判定を行うため，処理には少し時間がかかります．\n",
    "なお，現時点では，メッシュデータをボクセルデータに変換するOpen3Dの関数内ではボクセルデータに色情報を付加する処理が実装されていません．\n",
    "\n",
    "次に，点群データをボクセルデータに変換する処理を試してみましょう．"
   ]
  },
  {
   "cell_type": "code",
   "execution_count": 3,
   "metadata": {},
   "outputs": [
    {
     "name": "stdout",
     "output_type": "stream",
     "text": [
      "point cloud to voxel\n"
     ]
    }
   ],
   "source": [
    "print('point cloud to voxel')\n",
    "pcd = o3d.geometry.PointCloud()\n",
    "pcd.points = mesh.vertices\n",
    "pcd.colors = o3d.utility.Vector3dVector(np.random.uniform(0, 1, size=(np.array(pcd.points).shape[0], 3)))\n",
    "voxel_grid = o3d.geometry.VoxelGrid.create_from_point_cloud(pcd, voxel_size=0.05)\n",
    "o3d.visualization.draw_geometries([voxel_grid])"
   ]
  },
  {
   "cell_type": "markdown",
   "metadata": {},
   "source": [
    "ここでは（上記プログラムの3行目で）単純にメッシュの各頂点を点群データとして抽出し，\n",
    "4行目でランダムな色付けをしています．\n",
    "上記を実行すると，ボクセルデータが表示されます．\n",
    "ここでは，一つ以上の点を含むボクセルの値を$1$，他のボクセルの値を$0$とする関数が実装されています．\n",
    "各点が含まれるボクセルのインデックスは一意に求まるため，メッシュデータを入力とする場合に比べて軽い処理となります．\n",
    "ここで，各ボクセルの色はそのボクセルが含む全ての点の持つ色の平均値としています．\n",
    "なお，下記の処理を実行することで，各点が（$1$の値を持つ）ボクセルデータの中に含まれているかどうかを確認することが可能です．"
   ]
  },
  {
   "cell_type": "code",
   "execution_count": 4,
   "metadata": {},
   "outputs": [
    {
     "name": "stdout",
     "output_type": "stream",
     "text": [
      "[True, True, True, True, True, True, True, True, True, True]\n"
     ]
    }
   ],
   "source": [
    "# check if points are within an occupied voxel\n",
    "queries = np.asarray(pcd.points)\n",
    "output = voxel_grid.check_if_included(o3d.utility.Vector3dVector(queries))\n",
    "print(output[:10])"
   ]
  }
 ],
 "metadata": {
  "kernelspec": {
   "display_name": "Python 3",
   "language": "python",
   "name": "python3"
  },
  "language_info": {
   "codemirror_mode": {
    "name": "ipython",
    "version": 3
   },
   "file_extension": ".py",
   "mimetype": "text/x-python",
   "name": "python",
   "nbconvert_exporter": "python",
   "pygments_lexer": "ipython3",
   "version": "3.8.3"
  }
 },
 "nbformat": 4,
 "nbformat_minor": 4
}
