{
 "cells": [
  {
   "cell_type": "markdown",
   "metadata": {},
   "source": [
    "# 多視点画像表示\n",
    "\n",
    "Open3Dを用いて多視点画像を表示するプログラムを紹介します．\n",
    "ここでは，LightField Descriptor，およびMVCNNやRotationNetで用いられているように，正十二面体の全$20$個の頂点上に仮想カメラを配置して画像を取得します．\n",
    "まずはじめに，各頂点の3次元座標を変数`vertices`に格納します．"
   ]
  },
  {
   "cell_type": "code",
   "execution_count": 1,
   "metadata": {},
   "outputs": [
    {
     "name": "stdout",
     "output_type": "stream",
     "text": [
      "Jupyter environment detected. Enabling Open3D WebVisualizer.\n",
      "[Open3D INFO] WebRTC GUI backend enabled.\n",
      "[Open3D INFO] WebRTCWindowSystem: HTTP handshake server disabled.\n"
     ]
    }
   ],
   "source": [
    "import open3d as o3d\n",
    "import numpy as np\n",
    "\n",
    "phi = (1+np.sqrt(5))/2\n",
    "vertices = np.asarray([\n",
    "    [1, 1, 1],\n",
    "    [1, 1, -1],\n",
    "    [1, -1, 1],\n",
    "    [1, -1, -1],\n",
    "    [-1, 1, 1],\n",
    "    [-1, 1, -1],\n",
    "    [-1, -1, 1],\n",
    "    [-1, -1, -1],\n",
    "    [0, 1/phi, phi],\n",
    "    [0, 1/phi, -phi],\n",
    "    [0, -1/phi, phi],\n",
    "    [0, -1/phi, -phi],\n",
    "    [phi, 0, 1/phi],\n",
    "    [phi, 0, -1/phi],\n",
    "    [-phi, 0, 1/phi],\n",
    "    [-phi, 0, -1/phi],\n",
    "    [1/phi, phi, 0],\n",
    "    [-1/phi, phi, 0],\n",
    "    [1/phi, -phi, 0],\n",
    "    [-1/phi, -phi, 0]\n",
    "])"
   ]
  },
  {
   "cell_type": "markdown",
   "metadata": {},
   "source": [
    "次に，各頂点に置かれたカメラからの視点で点群データを表示させるためのコールバック関数を定義します．"
   ]
  },
  {
   "cell_type": "code",
   "execution_count": 2,
   "metadata": {},
   "outputs": [],
   "source": [
    "i = 0\n",
    "ROTATION_RADIAN_PER_PIXEL = 0.003\n",
    "def rotate_view(vis):\n",
    "    global i\n",
    "    if i >= vertices.shape[0]:\n",
    "        vis.close()\n",
    "        return False\n",
    "    vis.reset_view_point(True)\n",
    "    ctr = vis.get_view_control()\n",
    "    az = np.arctan2(vertices[i,1], vertices[i,0]) \n",
    "    el = np.arctan2(vertices[i,2], np.sqrt(vertices[i,0] * vertices[i,0] + vertices[i,1] * vertices[i,1]))\n",
    "    ctr.rotate(-az/ROTATION_RADIAN_PER_PIXEL, el/ROTATION_RADIAN_PER_PIXEL)\n",
    "    i += 1\n",
    "    return False"
   ]
  },
  {
   "cell_type": "markdown",
   "metadata": {},
   "source": [
    "9行目で$i$番目の頂点の方位角（azimuth），10行目で$i$番目の頂点の高度（elevation）を計算し，\n",
    "11行目で視点を回転させています．\n",
    "`ROTATION_RADIAN_PER_PIXEL`は，画像1ピクセルの回転角（ラジアン）を表しており，Open3Dではこの値が$0.003$と定義されています．\n",
    "11行目の関数の引数はピクセル数で与える必要があるため，先に求めた方位角と高度を`ROTATION_RADIAN_PER_PIXEL`で除算しています．\n",
    "\n",
    "次に，Bunny.plyのメッシュデータをファイルから読み込みます．"
   ]
  },
  {
   "cell_type": "code",
   "execution_count": 3,
   "metadata": {},
   "outputs": [],
   "source": [
    "filename = \"../3rdparty/Open3D/examples/test_data/Bunny.ply\"\n",
    "pcd = o3d.io.read_point_cloud(filename)"
   ]
  },
  {
   "cell_type": "markdown",
   "metadata": {},
   "source": [
    "最後に，先に定義したコールバック関数を用いて読み込んだ点群ファイルを描画します．"
   ]
  },
  {
   "cell_type": "code",
   "execution_count": 4,
   "metadata": {},
   "outputs": [],
   "source": [
    "key_to_callback = {}\n",
    "key_to_callback[ord(\" \")] = rotate_view\n",
    "o3d.visualization.draw_geometries_with_key_callbacks([pcd], key_to_callback)"
   ]
  },
  {
   "cell_type": "markdown",
   "metadata": {},
   "source": [
    "スペースキーを一回押すと，次のカメラ視点から見た点群データに表示が切り替わります．\n",
    "$20$個全てのカメラ視点からのデータを表示すると，プログラムを終了します．"
   ]
  }
 ],
 "metadata": {
  "kernelspec": {
   "display_name": "Python 3",
   "language": "python",
   "name": "python3"
  },
  "language_info": {
   "codemirror_mode": {
    "name": "ipython",
    "version": 3
   },
   "file_extension": ".py",
   "mimetype": "text/x-python",
   "name": "python",
   "nbconvert_exporter": "python",
   "pygments_lexer": "ipython3",
   "version": "3.8.3"
  }
 },
 "nbformat": 4,
 "nbformat_minor": 4
}
