{
 "cells": [
  {
   "cell_type": "markdown",
   "metadata": {},
   "source": [
    "# Point-to-plane ICP\n",
    "\n",
    "## 概要\n",
    "ICPアルゴリズムは次の４つの手順を踏むことによって，ソース点群をターゲット点群へ位置合わせする剛体変換を算出します．\n",
    "\n",
    "1. ソース点群とターゲット点群の対応付け\n",
    "2. 剛体変換の推定\n",
    "3. 物体の姿勢のアップデート\n",
    "4. 収束判定（収束しない場合は1.へ戻る）\n",
    "\n",
    "BeslとMackeyらの原著論文では，Step2において，点と点の距離を最小化する剛体変換を推定（Hornによる単位四元数を用いた方法）していました．\n",
    "これに対して，少ない回数で収束させるよう改善した目的関数として，Point-to-planeが存在します．\n",
    "Point-to-planeの目的関数では，ターゲットの表面に平面を仮定し，点と面の距離を評価します．\n",
    "このために，ターゲット点群には単位法線ベクトルを割り当てておきます．\n",
    "メッシュデータが元になるターゲットであれば，メッシュの法線方向を法線ベクトルとします．\n",
    "センサからの計測データがターゲット点群の場合は，注目点の周りの点を使って法線ベクトルを計算することができます．\n",
    "\n",
    "## Point-to-plane目的関数\n",
    "Point-to-planeは，ソースの点とターゲットの面の距離を評価する目的関数です．\n",
    "目的関数に入る前に，点$P$を${\\bf p}=(x,y,z)^\\top$，面を単位法線ベクトル${\\bf n}_x$と面上の任意の点${\\bf x}=(x_0, y_0, z_0)^\\top$として，この距離について考えます．\n",
    "距離は，点から面への最短距離，つまり点$P$から面へ伸ばした垂線の長さです．\n",
    "これは，面上の任意の点から点$P$までのベクトル${\\bf v} = (x-x_0, y-y_0, z-z_0)^\\top$を${\\bf n}_x$に射影したベクトルの長さになります．\n",
    "したがって，\n",
    "\n",
    "$d = |{\\bf v}\\cdot {\\bf n}| = | ({\\bf p}-{\\bf x})\\cdot {\\bf n}_x|$\n",
    "\n",
    "となります．\n",
    "\n",
    "ICPにおいては，点$P$がソース点群を構成する点，点$X$と法線${\\bf n}_x$がターゲット点群を構成する点です．\n",
    "ソース点群は回転行列$R$と平行移動ベクトル$\\bf t$による変換（これを同次変換行列$T$で表します．）を考慮すると，\n",
    "Point-to-planeの目的関数は，次のように書くことができます．\n",
    "\n",
    "$E({\\bf T}) = \\Sigma_{({\\bf x},{\\bf p})\\in \\mathcal{K}}(({\\bf x}-{\\bf Tp})\\cdot{\\bf n_x})^2$\n",
    "\n",
    "この目的関数を使うと，多くの場合でPoint-to-pointの目的関数を利用したICPよりも少ない繰り返し回数で収束することが知られています．しかしながら，法線付きの点群を扱わなければならないことに注意しましょう．\n",
    "\n",
    "本節では，Point-to-planeの目的関数を利用した剛体変換の推定方法を解説します．\n",
    "point-to-planeの目的関数はpoint-to-pointのものと似ていますが，同様の方法で解くことができません．\n",
    "そこで，ICPによる姿勢のアップデートが微小であると仮定して求めたい回転行列を線形化することによって，最小化問題を解析的に解くアプローチを取ります．\n",
    "\n",
    "## 微小回転を仮定した回転行列の線形化\n",
    "\n",
    "\n",
    "第2章で説明したロドリゲスの公式を変形すると回転軸$\\bf w$，回転角$ \\theta$による回転は次のように表すことができます．\n",
    "\n",
    "\n",
    "\\begin{equation}\n",
    "\\label{eq:theta_w_to_rotmat}\n",
    "R(\\theta,{\\bf w}) = I_3 + sin\\theta W + (1-cos\\theta)W^2\n",
    "\\end{equation}\n",
    "ここで，行列$W$はベクトル$\\bf w$による外積を行列積として計算するための歪対称行列です．\n",
    "\n",
    "\\begin{equation}\n",
    "W = \n",
    "\\begin{bmatrix}\n",
    "0 & -w_3 & w_2\\\\\n",
    "w_3 & 0 & -w_1\\\\\n",
    "-w_2 & w_1 & 0\\\\\n",
    "\\end{bmatrix}\n",
    "\\end{equation}\n",
    "\n",
    "$\\bf w$と$ \\theta$に微小な変動のみを仮定すると，$sin \\theta\\approx\\theta, cos\\theta\\approx 1$なので，回転行列が\n",
    "\n",
    "\\begin{equation}\n",
    "R(\\theta,{\\bf w}) \\approx I_3 + \\theta W = I_3 + \n",
    "\\begin{bmatrix}\n",
    "0 & -\\theta w_3 & \\theta w_2\\\\\n",
    "\\theta w_3 & 0 & -\\theta w_1\\\\\n",
    "-\\theta w_2 & \\theta w_1 & 0\\\\\n",
    "\\end{bmatrix}\n",
    "\\end{equation}\n",
    "\n",
    "となります．\n",
    "\n",
    "ここで，${\\bf a} = \\theta {\\bf w}$とするベクトルを導入すると，\n",
    "\n",
    "\\begin{equation}\n",
    "R(\\theta,{\\bf w}) = I_3 + \n",
    "\\begin{bmatrix}\n",
    "0 & -a_3 & a_2\\\\\n",
    "a_3 & 0 & -a_1\\\\\n",
    "-a_2 & a_1 & 0\\\\\n",
    "\\end{bmatrix}\n",
    "\\end{equation}\n",
    "\n",
    "この式は任意の3次元ベクトル$\\bf p$を使った外積で書き直せます．\n",
    "\n",
    "$R(\\theta,{\\bf w}){\\bf p} = {\\bf p} + {\\bf a}\\times{\\bf p} $"
   ]
  },
  {
   "cell_type": "markdown",
   "metadata": {},
   "source": [
    "## Point-to-plane目的関数の変形\n",
    "目的関数に線形化した回転行列を代入します．\n",
    "\n",
    "\\begin{equation}\n",
    "E({\\bf a,t}) = \\Sigma_{({\\bf x},{\\bf p})\\in \\mathcal{K}}(( {\\bf p} + {\\bf a}\\times{\\bf p} + {\\bf t} - {\\bf x}  )\\cdot{\\bf n}_x)^2\n",
    "\\end{equation}\n",
    "\n",
    "次に，未知の要素を6次元ベクトル${\\bf u}^\\top = [{\\bf a}^\\top {\\bf t}^\\top]$でまとめて，スカラー三重積の性質に注意しながら，目的関数の括弧内を展開します．\n",
    "\n"
   ]
  },
  {
   "cell_type": "markdown",
   "metadata": {},
   "source": [
    "\\begin{equation}\n",
    "E({\\bf a,t}) = \\sum_{({\\bf x},{\\bf p})\\in \\mathcal{K}}( ({\\bf p}\\times{\\bf n}_x)^\\top{\\bf a} + {\\bf n}_x^\\top{\\bf t} - {\\bf n}_x^\\top( {\\bf x}-{\\bf p} ))^2\n",
    "\\end{equation}"
   ]
  },
  {
   "cell_type": "markdown",
   "metadata": {},
   "source": [
    "\\begin{equation}\n",
    "E({\\bf u}) = \\sum_{({\\bf x},{\\bf p})\\in \\mathcal{K}}( [({\\bf p}\\times{\\bf n}_x)^\\top  {\\bf n}_x^\\top]{\\bf u} - {\\bf n}_x^\\top( {\\bf x}-{\\bf p} ))^2\n",
    "\\end{equation}"
   ]
  },
  {
   "cell_type": "markdown",
   "metadata": {},
   "source": [
    "\\begin{equation}\n",
    "\\begin{split}\n",
    "E({\\bf u}) =  & {\\bf u}^\\top\\underbrace{(\\Sigma_{({\\bf x},{\\bf p})\\in \\mathcal{K}}\n",
    "\\begin{bmatrix}\n",
    "({\\bf p}\\times{\\bf n}_x) \\\\\n",
    "{\\bf n}_x \\\\\n",
    "\\end{bmatrix} \n",
    "\\begin{bmatrix}\n",
    "[({\\bf p}\\times{\\bf n}_x)^\\top & {\\bf n}_x^\\top]\n",
    "\\end{bmatrix})}_{A \\in \\mathbb{R}^{6\\times 6}}{\\bf u} \\\\\n",
    " &-2{\\bf u}^\\top\\underbrace{(\\Sigma_{({\\bf x},{\\bf p})\\in \\mathcal{K}}\n",
    "\\begin{bmatrix}\n",
    "({\\bf p}\\times{\\bf n}_x) \\\\\n",
    "{\\bf n}_x \\\\\n",
    "\\end{bmatrix}{\\bf n}_x^\\top( {\\bf x}-{\\bf p} ) )}_{{\\bf b} \\in \\mathbb{R}^6} \\\\\n",
    "& +\\underbrace{(\\Sigma_{({\\bf x},{\\bf p})\\in \\mathcal{K}}( {\\bf x}-{\\bf p} )^\\top{\\bf n}_x{\\bf n}_x^\\top( {\\bf x}-{\\bf p} ))}_{constant}\n",
    "\\end{split}\n",
    "\\end{equation}"
   ]
  },
  {
   "cell_type": "markdown",
   "metadata": {},
   "source": [
    "第１項の括弧内を6x6行列$A$，第２項の括弧内を6次元ベクトル$\\bf b$とすると，$\\bf u$に関する二次形式の最小化問題が見えてきます．\n",
    "\n",
    "\\begin{equation}\n",
    "{\\bf u}^\\top A{\\bf u}-2{\\bf u}^\\top{\\bf b}\n",
    "\\end{equation}\n",
    "\n",
    "この解は\n",
    "${\\bf u}^*=A^{-1}{\\bf b}$\n",
    "です．\n",
    "${\\bf u}$の前半3つの成分が回転成分$\\bf a$，後半3つが平行移動ベクトル${\\bf t}$です．\n",
    "$\\bf a$を回転軸と回転角度に戻すために，$\\theta = ||{\\bf a}||$, ${\\bf w} = {\\bf a}/\\theta$を計算します．\n",
    "これらを式(4.20)に代入するとPoint-to-planeで計算した回転行列が得られます．\n"
   ]
  },
  {
   "cell_type": "markdown",
   "metadata": {},
   "source": [
    "## Point-to-plane ICPの実装"
   ]
  },
  {
   "cell_type": "markdown",
   "metadata": {},
   "source": [
    "それでは，Point-to-planeの目的関数による回転行列，平行移動ベクトルの推定を実装しましょう．\n",
    "実装が必要なのは$A^{-1}$と${\\bf b}$です．\n",
    "\n",
    "まずは位置合わせ対象の点群を読み込みます．ソース点群$P$を変数名```pcd_s```，ターゲット点群$X$を変数名```pcd_t```としてデータを用意します．\n",
    "ビューワーが立ち上がったら，[n]キーを押下してみてください．ターゲット点群に法線が割り当てられていることを確認できます．"
   ]
  },
  {
   "cell_type": "code",
   "execution_count": null,
   "metadata": {},
   "outputs": [],
   "source": [
    "import open3d as o3d\n",
    "import numpy as np\n",
    "import copy\n",
    "\n",
    "pcd1 = o3d.io.read_point_cloud( \"../data/bun000.pcd\" )\n",
    "pcd2 = o3d.io.read_point_cloud( \"../data/bun045.pcd\" )\n",
    "\n",
    "pcd_s = pcd1.voxel_down_sample(voxel_size=0.003)\n",
    "pcd_t = pcd2.voxel_down_sample(voxel_size=0.003)\n",
    "\n",
    "pcd_s.paint_uniform_color([0.0, 1.0, 0.0])\n",
    "pcd_t.paint_uniform_color([0.0, 0.0, 1.0])\n",
    "o3d.visualization.draw_geometries([pcd_s, pcd_t])"
   ]
  },
  {
   "cell_type": "markdown",
   "metadata": {},
   "source": [
    "次に，ICPアルゴリズムのStep1を実装します．\n",
    "この処理は4.4.1節とほぼ同様ですが，近傍点の法線群である```np_normal_y```を取り出す処理が追加されています．"
   ]
  },
  {
   "cell_type": "code",
   "execution_count": null,
   "metadata": {},
   "outputs": [],
   "source": [
    "pcd_tree = o3d.geometry.KDTreeFlann(pcd_t)\n",
    "\n",
    "\n",
    "idx_list = []\n",
    "for i in range(len(pcd_s.points)):\n",
    "    [k, idx, _] = pcd_tree.search_knn_vector_3d(pcd_s.points[i], 1)\n",
    "    idx_list.append(idx[0])\n",
    "\n",
    "np_pcd_t = np.asarray(pcd_t.points)\n",
    "np_pcd_y = np_pcd_t[idx_list].copy()\n",
    "np_normal_t = np.asarray(pcd_t.normals)\n",
    "np_normal_y = np_normal_t[idx_list].copy()"
   ]
  },
  {
   "cell_type": "markdown",
   "metadata": {},
   "source": [
    "続いてStep2の実装です．\n",
    "行列$A$とベクトル$\\bf b$を計算します．次のコードでは，見やすさのためにそれぞれ別のfor文で計算していますが，\n",
    "まとめて計算することもできます．"
   ]
  },
  {
   "cell_type": "code",
   "execution_count": null,
   "metadata": {},
   "outputs": [],
   "source": [
    "#  Matrix A\n",
    "np_pcd_s = np.asarray(pcd_s.points)\n",
    "A = np.zeros((6,6))\n",
    "for i in range(len(np_pcd_s)):\n",
    "    xn = np.cross( np_pcd_s[i], np_normal_y[i] ) \n",
    "    xn_n = np.hstack( (xn, np_normal_y[i]) ).reshape(-1,1)\n",
    "    A += np.dot( xn_n, xn_n.T )\n",
    "print(A)"
   ]
  },
  {
   "cell_type": "code",
   "execution_count": null,
   "metadata": {},
   "outputs": [],
   "source": [
    "# Vector b\n",
    "b = np.zeros((6,1))\n",
    "for i in range(len(np_pcd_s)):\n",
    "    xn = np.cross( np_pcd_s[i], np_normal_y[i] ) \n",
    "    xn_n = np.hstack( (xn, np_normal_y[i]) ).reshape(-1,1)\n",
    "    nT = np_normal_y[i].reshape(1,-1)\n",
    "    p_x = (np_pcd_y[i] - np_pcd_s[i] ).reshape(-1,1)\n",
    "    b += xn_n * np.dot(nT,p_x)\n",
    "print(b)"
   ]
  },
  {
   "cell_type": "markdown",
   "metadata": {},
   "source": [
    "$A$の逆行列と$\\bf b$の積を計算し，回転軸$\\bf w$と回転量$\\theta$を計算します．"
   ]
  },
  {
   "cell_type": "code",
   "execution_count": null,
   "metadata": {},
   "outputs": [],
   "source": [
    "# 回転軸wと回転量thetaの算出\n",
    "u_opt = np.dot(np.linalg.inv(A),b)\n",
    "theta = np.linalg.norm(u_opt[:3])\n",
    "w = (u_opt[:3]/theta).reshape(-1)\n",
    "print('w:',w)\n",
    "print('theta:', theta)"
   ]
  },
  {
   "cell_type": "markdown",
   "metadata": {},
   "source": [
    "$\\bf w$と$\\theta$から，回転行列を計算します．"
   ]
  },
  {
   "cell_type": "code",
   "execution_count": null,
   "metadata": {},
   "outputs": [],
   "source": [
    "def axis_angle_to_matrix( axis, theta ):\n",
    "    \"\"\"\n",
    "    Args:\n",
    "      axis(ndarray): rotation axis\n",
    "      theta(float): rotation angle\n",
    "    \"\"\"\n",
    "    \n",
    "    # 歪対象行列\n",
    "    w = np.array([[     0.0, -axis[2],  axis[1]],\n",
    "                  [ axis[2],      0.0, -axis[0]],\n",
    "                  [-axis[1],  axis[0],      0.0]\n",
    "                 ])\n",
    "    rot = np.identity(3) + (np.sin(theta)*w) \\\n",
    "                                       + ((1-np.cos(theta))*np.dot(w,w))\n",
    "    return rot\n",
    "\n",
    "rot = axis_angle_to_matrix( w, theta )\n",
    "print(rot)"
   ]
  },
  {
   "cell_type": "markdown",
   "metadata": {},
   "source": [
    "```u_opt```の後半３つの要素が平行移動ベクトルであることに注意して，同次変換行列を作成します．"
   ]
  },
  {
   "cell_type": "code",
   "execution_count": null,
   "metadata": {},
   "outputs": [],
   "source": [
    "# 4x4同次変換行列の算出\n",
    "transform = np.identity(4)\n",
    "transform[0:3,0:3] = rot.copy()\n",
    "transform[0:3,3] = u_opt[3:6].reshape(-1).copy()\n",
    "print(transform)"
   ]
  },
  {
   "cell_type": "markdown",
   "metadata": {},
   "source": [
    "得られた変換行列をソース点群に適用します．これを赤色の点群として，表示します．"
   ]
  },
  {
   "cell_type": "code",
   "execution_count": null,
   "metadata": {},
   "outputs": [],
   "source": [
    "# 変換前後の点群の表示．\n",
    "pcd_s2 = copy.deepcopy(pcd_s)\n",
    "pcd_s2.transform(transform)\n",
    "pcd_s2.paint_uniform_color([1.0,0.0,0.0])\n",
    "o3d.visualization.draw_geometries([pcd_t, pcd_s, pcd_s2] )"
   ]
  },
  {
   "cell_type": "markdown",
   "metadata": {},
   "source": [
    "ターゲット点群に近づいたことがわかりました．\n",
    "これ以降は，4.4.3節，4.4.4節の手続きを踏むことによって，ICPアルゴリズムを動作させることができます．\n",
    "\n",
    "Point-to-plane型ICPアルゴリズムの処理を一つのクラス（ICPRegistration_PointToPlane）として実装したサンプルコードは，\\sf{icp\\_registration.py}にあります．\n",
    "このクラスを利用してICPをおこなうサンプルコードの実行方法は次の通りです．第一引数に１を指定してください．\n",
    "\n",
    "```bash\n",
    "python run_my_icp.py 1\n",
    "```"
   ]
  },
  {
   "cell_type": "markdown",
   "metadata": {},
   "source": [
    "## ICPRegistrationクラスのテスト\n",
    "Point-to-PlaneとPoint-to-Pointの収束性能を比較します．"
   ]
  },
  {
   "cell_type": "code",
   "execution_count": null,
   "metadata": {},
   "outputs": [],
   "source": [
    "from icp_registration import ICPRegistration_PointToPoint\n",
    "from icp_registration import ICPRegistration_PointToPlane"
   ]
  },
  {
   "cell_type": "code",
   "execution_count": null,
   "metadata": {},
   "outputs": [],
   "source": [
    "pcd1 = o3d.io.read_point_cloud( \"../data/bun000.pcd\" )\n",
    "pcd2 = o3d.io.read_point_cloud( \"../data/bun045.pcd\" )\n",
    "\n",
    "pcd_s = pcd1.voxel_down_sample(voxel_size=0.003)\n",
    "pcd_t = pcd2.voxel_down_sample(voxel_size=0.003)\n",
    "\n",
    "# ICPの実行．\n",
    "reg1 = ICPRegistration_PointToPoint(pcd_s, pcd_t)\n",
    "reg2 = ICPRegistration_PointToPlane(pcd_s, pcd_t)\n",
    "reg1.set_th_distance( 0.003 )\n",
    "reg1.set_n_iterations( 100 )\n",
    "reg1.set_th_ratio( 0.999 )\n",
    "pcd_reg1 = reg1.registration()\n",
    "\n",
    "reg2.set_th_distance( 0.003 )\n",
    "reg2.set_n_iterations( 100 )\n",
    "reg2.set_th_ratio( 0.999 )\n",
    "pcd_reg2 = reg2.registration()"
   ]
  },
  {
   "cell_type": "code",
   "execution_count": null,
   "metadata": {},
   "outputs": [],
   "source": [
    "# 誤差のプロット\n",
    "import matplotlib.pyplot as plt\n",
    "import matplotlib.ticker as ticker\n",
    "\n",
    "plt.figure(dpi=150)\n",
    "plt.ylabel(\"Distance [m/pts.]\")\n",
    "plt.xlabel(\"Iteration\")\n",
    "plt.plot(reg1.d, c=\"b\")\n",
    "plt.plot(reg2.d, c=\"r\")\n",
    "plt.legend(labels=[\"Point-to-Point\",\"Point-to-Plane\"])\n",
    "plt.gca().get_xaxis().set_major_locator(ticker.MaxNLocator(integer=True))\n",
    "\n",
    "plt.savefig(\"reg_error_compared.png\")"
   ]
  },
  {
   "cell_type": "markdown",
   "metadata": {},
   "source": [
    "図は，Point-to-pointとPoint-to-planeの繰り返し演算における位置ずれ誤差の推移です．\n",
    "Point-to-planeのほうが少ない回数で繰り返し演算が収束したことが分かります．"
   ]
  }
 ],
 "metadata": {
  "interpreter": {
   "hash": "ba898e0815c04663ea6239e0c883a77c86c002ba62ec9e21fc2546e57e704740"
  },
  "kernelspec": {
   "display_name": "Python 3 (ipykernel)",
   "language": "python",
   "name": "python3"
  },
  "language_info": {
   "codemirror_mode": {
    "name": "ipython",
    "version": 3
   },
   "file_extension": ".py",
   "mimetype": "text/x-python",
   "name": "python",
   "nbconvert_exporter": "python",
   "pygments_lexer": "ipython3",
   "version": "3.8.10"
  }
 },
 "nbformat": 4,
 "nbformat_minor": 4
}
