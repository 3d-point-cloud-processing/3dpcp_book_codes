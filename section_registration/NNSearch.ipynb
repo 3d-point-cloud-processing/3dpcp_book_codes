{
 "cells": [
  {
   "cell_type": "markdown",
   "metadata": {},
   "source": [
    "# 最近傍点の探索（単純な方法）\n",
    "点群$X$から任意の点（クエリとも呼びます）$\\bf p$の最近傍点を見つけ出すタスクのことを最近傍点を探索や単に検索と呼びます．\n",
    "点間の距離として二乗距離を使うことにすると，最近傍探索は次のように書くことができます．\n",
    "\n",
    "\\begin{equation}\n",
    "\\label{eq:dist_point-pcd}\n",
    "d({\\bf p},X) = \\min_{{\\bf x} \\in X}|| {\\bf p} - {\\bf x} ||\n",
    "\\end{equation}\n",
    "\n",
    "最もシンプルな方法は，$X$を構成する点全てと$\\bf p$との二乗距離を計算し，\n",
    "その最小値を結果とする方法です．\n",
    "この方法は，$X$が$m$点で構成される点群とすると，計算量は$O(m)$です．\n",
    "Open3Dを使ってこの処理を実装してみましょう．"
   ]
  },
  {
   "cell_type": "code",
   "execution_count": null,
   "metadata": {},
   "outputs": [],
   "source": [
    "import open3d as o3d\n",
    "import numpy as np\n",
    "import copy"
   ]
  },
  {
   "cell_type": "markdown",
   "metadata": {},
   "source": [
    "$X$として，sin関数にしたがう点列を用意します．\n",
    "点${\\bf p} = (1.0,0.0,0.0)$としました．"
   ]
  },
  {
   "cell_type": "code",
   "execution_count": null,
   "metadata": {},
   "outputs": [],
   "source": [
    "# point cloud as sin function\n",
    "X_x = np.arange(-np.pi,np.pi, 0.1)\n",
    "X_y = np.sin(X_x)\n",
    "X_z = np.zeros(X_x.shape)\n",
    "X = np.vstack([X_x, X_y, X_z]).T"
   ]
  },
  {
   "cell_type": "code",
   "execution_count": null,
   "metadata": {},
   "outputs": [],
   "source": [
    "# point p\n",
    "p = np.array([1.0,0.0,0.0])"
   ]
  },
  {
   "cell_type": "code",
   "execution_count": null,
   "metadata": {},
   "outputs": [],
   "source": [
    "# open3d point cloud of X\n",
    "pcd_X = o3d.geometry.PointCloud()\n",
    "pcd_X.points = o3d.utility.Vector3dVector(X)\n",
    "pcd_X.paint_uniform_color([0.5,0.5,0.5])\n",
    "\n",
    "# open3d point cloud of p\n",
    "pcd_p = o3d.geometry.PointCloud()\n",
    "pcd_p.points = o3d.utility.Vector3dVector([p])\n",
    "pcd_p.paint_uniform_color([0.0,0.0,1.0])\n",
    "\n",
    "# Create axis\n",
    "mesh = o3d.geometry.TriangleMesh.create_coordinate_frame()\n",
    "\n",
    "# Visualization\n",
    "o3d.visualization.draw_geometries([mesh, pcd_X,pcd_p])"
   ]
  },
  {
   "cell_type": "markdown",
   "metadata": {},
   "source": [
    "点と点群の距離を計算する関数は```dist(p,X)```です．\n",
    "$\\bf p$の最近傍点までの二乗距離とその点のインデクスを返却します．\n",
    "この関数を使って，点${\\bf p}$の最近傍点の色を緑に変更して可視化しましょう．"
   ]
  },
  {
   "cell_type": "code",
   "execution_count": null,
   "metadata": {},
   "outputs": [],
   "source": [
    "def dist( p, X ):\n",
    "    dists = np.linalg.norm(p-X,axis=1) \n",
    "    min_dist = min(dists)\n",
    "    min_idx = np.argmin(dists)\n",
    "    \n",
    "    return min_dist, min_idx"
   ]
  },
  {
   "cell_type": "code",
   "execution_count": null,
   "metadata": {},
   "outputs": [],
   "source": [
    "min_dist, min_idx = dist(p,X)\n",
    "np.asarray(pcd_X.colors)[min_idx] = [0.0,1.0,0.0]\n",
    "print(\"distance:{}, idx:{}\".format(min_dist, min_idx))\n",
    "o3d.visualization.draw_geometries([mesh,pcd_X,pcd_p])"
   ]
  },
  {
   "cell_type": "markdown",
   "metadata": {},
   "source": [
    "# Open3Dによるkd-tree\n",
    "それでは，Open3Dを使ってkd-treeによる探索を試してみましょう．Open3Dにおいても，前節までの説明と同様に，まずkd-treeを構築し，クエリ点を入力することによって探索を行います．\n",
    "\n",
    "また，Open3Dのkd-treeには，探索の基準が3つ用意されています．\n",
    "- ```search_knn_vector_3d``` ... クエリのk近傍点を抽出する方法\n",
    "- ```search_radius_vector_3d``` ... 指定した半径の値以内の点を抽出する方法\n",
    "- ```search_hybrid_vector_3d``` ... 上記２つの基準を満たす点を抽出する方法．RKNNサーチとも呼ばれます．\n",
    "\n",
    "それぞれ動作を確認しましょう．\n",
    "\n",
    "まずは，```search_knn_vector_3d```を試します．\n",
    "点群の10000番目の点をクエリとし，そこから近い順で200点を抽出します．"
   ]
  },
  {
   "cell_type": "code",
   "execution_count": null,
   "metadata": {},
   "outputs": [],
   "source": [
    "# Load a point cloud and paint it gray.\n",
    "pcd = o3d.io.read_point_cloud(\"../data/bun000.pcd\")\n",
    "pcd.paint_uniform_color([0.5, 0.5, 0.5])\n",
    "\n",
    "# build td-tree\n",
    "pcd_tree = o3d.geometry.KDTreeFlann(pcd)\n",
    "\n",
    "query = 10000\n",
    "pcd.colors[query] = [1, 0, 0]\n",
    "\n",
    "[k, idx, d] = pcd_tree.search_knn_vector_3d(pcd.points[query], 200)\n",
    "np.asarray(pcd.colors)[idx[1:], :] = [0, 0, 1]\n",
    "o3d.visualization.draw_geometries([pcd])"
   ]
  },
  {
   "cell_type": "markdown",
   "metadata": {},
   "source": [
    "dには各点の二乗距離が入っているので，ルートを取ると，実際の距離になります．\n",
    "\n",
    "つぎに，```search_radius_vector_3d```を試します．\n",
    "点群の20000番目の点をクエリとして，そこから距離0.01以内の点を抽出します．"
   ]
  },
  {
   "cell_type": "code",
   "execution_count": null,
   "metadata": {},
   "outputs": [],
   "source": [
    "query = 20000\n",
    "pcd.colors[query] = [1, 0, 0]\n",
    "[k, idx, d] = pcd_tree.search_radius_vector_3d(pcd.points[query], 0.01)\n",
    "np.asarray(pcd.colors)[idx[1:], :] = [0, 1, 0]\n",
    "o3d.visualization.draw_geometries([pcd])"
   ]
  },
  {
   "cell_type": "markdown",
   "metadata": {},
   "source": [
    "最後に，```search_hybrid_vector_3d```を試します．\n",
    "点群の5000番目の点をクエリとして，そこから距離0.01以内の点を200点抽出します．"
   ]
  },
  {
   "cell_type": "code",
   "execution_count": null,
   "metadata": {},
   "outputs": [],
   "source": [
    "query = 5000\n",
    "pcd.colors[query] = [1, 0, 0]\n",
    "[k, idx, d] = pcd_tree.search_hybrid_vector_3d(pcd.points[query], \n",
    "                                               radius=0.01,\n",
    "                                               max_nn=200)\n",
    "np.asarray(pcd.colors)[idx[1:], :] = [0, 1, 1]\n",
    "o3d.visualization.draw_geometries([pcd])"
   ]
  },
  {
   "cell_type": "code",
   "execution_count": null,
   "metadata": {},
   "outputs": [],
   "source": []
  }
 ],
 "metadata": {
  "kernelspec": {
   "display_name": "Python 3 (ipykernel)",
   "language": "python",
   "name": "python3"
  },
  "language_info": {
   "codemirror_mode": {
    "name": "ipython",
    "version": 3
   },
   "file_extension": ".py",
   "mimetype": "text/x-python",
   "name": "python",
   "nbconvert_exporter": "python",
   "pygments_lexer": "ipython3",
   "version": "3.8.10"
  }
 },
 "nbformat": 4,
 "nbformat_minor": 4
}
